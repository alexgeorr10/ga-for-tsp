{
 "cells": [
  {
   "cell_type": "markdown",
   "metadata": {},
   "source": [
    "# Genetic Algorithm for the Traveling Salesman Problem"
   ]
  },
  {
   "cell_type": "markdown",
   "metadata": {},
   "source": [
    "In this notebook, we implement a genetic algorithm to find an approximate solution to the classical traveling salesman problem. We then test it on a few graphs with 10-20 nodes. "
   ]
  },
  {
   "cell_type": "code",
   "execution_count": null,
   "metadata": {},
   "outputs": [],
   "source": [
    "%matplotlib notebook\n",
    "import numpy as np\n",
    "import itertools\n",
    "import random\n",
    "import networkx as nx\n",
    "import matplotlib.pyplot as plt"
   ]
  },
  {
   "cell_type": "markdown",
   "metadata": {},
   "source": [
    "## Example graph G to work on the Traveling Salesman Problem"
   ]
  },
  {
   "cell_type": "code",
   "execution_count": null,
   "metadata": {},
   "outputs": [],
   "source": [
    "random.seed(0)\n",
    "G=nx.Graph()\n",
    "weighted_edges=[('A','B', random.randint(1,10)), ('C','B', random.randint(1,10)), ('D','B',random.randint(1,10)),\n",
    "                ('A','C', random.randint(1,10)), ('D','E', random.randint(1,10)), ('E','F',random.randint(1,10)),\n",
    "                ('E','G', random.randint(1,10)), ('E','H', random.randint(1,10)), ('F','H',random.randint(1,10)),\n",
    "                ('C','H', random.randint(1,10)), ('E','B', random.randint(1,10)), ('H','B',random.randint(1,10)), \n",
    "                ('D','G', random.randint(1,10)), ('F','G', random.randint(1,10)), ('F','I',random.randint(1,10)),\n",
    "                ('H','I', random.randint(1,10)), ('C','I', random.randint(1,10)), ('J','C',random.randint(1,10)), \n",
    "                ('J','F', random.randint(1,10)), ('G','I', random.randint(1,10)), ('J','I', random.randint(1,10)) ]\n",
    "G.add_weighted_edges_from(weighted_edges, weight='weight')"
   ]
  },
  {
   "cell_type": "code",
   "execution_count": null,
   "metadata": {},
   "outputs": [],
   "source": [
    "def plot_graph_with_weights(G):\n",
    "    print('Weighted graph to solve the TSP on')\n",
    "    print(nx.info(G))\n",
    "    pos = nx.spring_layout(G, seed=12)\n",
    "    plt.figure(figsize=(7,4))    \n",
    "    nx.draw(G, pos, edge_color='black', width=1, linewidths=5, node_size=300, node_color='lightblue', \n",
    "            alpha=1, labels={node: node for node in G.nodes()})\n",
    "    nx.draw_networkx_edge_labels(G, pos,edge_labels={e: G[e[0]][e[1]]['weight'] for e in G.edges()}, font_color='red')"
   ]
  },
  {
   "cell_type": "code",
   "execution_count": null,
   "metadata": {},
   "outputs": [],
   "source": [
    "plot_graph_with_weights(G)    "
   ]
  },
  {
   "cell_type": "markdown",
   "metadata": {},
   "source": [
    "## The Traveling Salesman Problem (TSP)"
   ]
  },
  {
   "cell_type": "markdown",
   "metadata": {},
   "source": [
    "A path that visits every vertex of a graph exactly once is called a __Hamiltonian path__. If it returns at the first vertex, is is a __Hamiltonian cycle__.\n",
    "\n",
    "__The Problem:__ Given a weighted graph and a source vertex v, find the least expensive Hamiltonian cycle.\n",
    "\n",
    "A solution to the TSP for the example graph G and source node 'A' is a Hamiltonian cycle ['A','B',...,'A'] so that the accummulated cost, over the edges it travels, is the mimimum possible."
   ]
  },
  {
   "cell_type": "markdown",
   "metadata": {},
   "source": [
    "## Implementing a Genetic Algorithm"
   ]
  },
  {
   "cell_type": "markdown",
   "metadata": {},
   "source": [
    "The first problem we encounter is that it is already difficult to find a Hamiltonian cycle, yet alone the optimal one. For this reason, we first introduce all the missing edges by making the graph complete and giving them a weight of $+\\infty$. This way any permutation of the nodes after the source node will produce a Hamiltonian path. (Many of them will now have an infinite cost but this is not a problem because we are already trying to minimize the cost.) "
   ]
  },
  {
   "cell_type": "code",
   "execution_count": null,
   "metadata": {},
   "outputs": [],
   "source": [
    "def complete_graph_with_infinite_cost_edges(G):\n",
    "    \"\"\"Given a weighted graph G, make it complete by giving infinite weight to all the missing edges.\"\"\"\n",
    "    G.add_weighted_edges_from([(u, v, np.inf) for (u,v) in nx.non_edges(G)], weight='weight')\n",
    "    return G"
   ]
  },
  {
   "cell_type": "code",
   "execution_count": null,
   "metadata": {},
   "outputs": [],
   "source": [
    "G=complete_graph_with_infinite_cost_edges(G)"
   ]
  },
  {
   "cell_type": "code",
   "execution_count": null,
   "metadata": {},
   "outputs": [],
   "source": [
    "def plot_complete_graph_with_a_few_weights(G):\n",
    "    print('Complete graph with a few weights depicted')\n",
    "    print(nx.info(G))\n",
    "    plt.figure(figsize=(4,4))   \n",
    "    pos = nx.circular_layout(G)\n",
    "    nx.draw(G, pos, edge_color='black', width=1, linewidths=5, node_size=300, node_color='lightblue', \n",
    "            alpha=1, labels={node: node for node in G.nodes()})\n",
    "    nx.draw_networkx_edge_labels(G, pos, edge_labels={e: G[e[0]][e[1]]['weight'] for e in list(G.edges())[:10]}, font_color='red')"
   ]
  },
  {
   "cell_type": "code",
   "execution_count": null,
   "metadata": {},
   "outputs": [],
   "source": [
    "plot_complete_graph_with_a_few_weights(G)"
   ]
  },
  {
   "cell_type": "markdown",
   "metadata": {},
   "source": [
    "## Fitness function"
   ]
  },
  {
   "cell_type": "markdown",
   "metadata": {},
   "source": [
    "The main ingredient of a genetic algorithm is the fitness function. This is an optimization problem, so the fitness function here coincides with what we want to optimize, namely the cost of a path from the node 'A' to itself. "
   ]
  },
  {
   "cell_type": "code",
   "execution_count": null,
   "metadata": {},
   "outputs": [],
   "source": [
    "def cost_of_path(G, path):\n",
    "    \"\"\"Given a path ['A','B',...,'A'] of a weighted graph, compute its cost.\"\"\"\n",
    "    return sum([G[u][v]['weight'] for (u,v) in zip(path[:-1], path[1:])])\n",
    "\n",
    "#cost_of_path(G, ['A', 'C', 'J', 'I', 'H', 'F', 'G', 'E', 'D', 'B', 'A'])"
   ]
  },
  {
   "cell_type": "markdown",
   "metadata": {},
   "source": [
    "## Crossover and Mutation"
   ]
  },
  {
   "cell_type": "code",
   "execution_count": null,
   "metadata": {},
   "outputs": [],
   "source": [
    "def crossover(path1, path2, where=None):\n",
    "    \"\"\"\"Crossover the two paths. The last part of path2 is kept along with the remaining nodes of path1.\"\"\"\n",
    "    if where is None:\n",
    "        where=int(len(path1)/2)\n",
    "    new_path_1=path1[:]\n",
    "    new_path_2=path2[:]\n",
    "    for node in new_path_2[where:len(path2)-1]:\n",
    "        new_path_1.remove(node)\n",
    "    return new_path_1[:-1]+new_path_2[where:]\n",
    "\n",
    "def mutation(path):\n",
    "    \"\"\"\"Interchange two random nodes of the path. The source node is excluded.\"\"\"\n",
    "    new_path=path[:]\n",
    "    i=random.randint(1,len(path)-3)\n",
    "    j=random.randint(i+1,len(path)-2)\n",
    "    new_path[i], new_path[j]=new_path[j], new_path[i]\n",
    "    return new_path\n",
    "\n",
    "def mutated_offspring(path1, path2, where=None):\n",
    "    return mutation(crossover(path1, path2, where))"
   ]
  },
  {
   "cell_type": "markdown",
   "metadata": {},
   "source": [
    "## The Genetic Algorithm"
   ]
  },
  {
   "cell_type": "markdown",
   "metadata": {},
   "source": [
    "The genetic algorithm below has the following parameters:\n",
    " - max_gens: The threshold number of generations that will pass before the algorithm stops\n",
    " - starting_size: The number of random paths generated at the first generation to start the iterations with. This number is also used at every generation to add some completely random paths in the mix.\n",
    " - keep: The number of the best paths kept at the end of every generation to mate in the next generation\n",
    " - elite_count: The number of best paths passed directly down to the next generation\n",
    " - starting_population: A given list of paths to be added in the first generation"
   ]
  },
  {
   "cell_type": "code",
   "execution_count": null,
   "metadata": {},
   "outputs": [],
   "source": [
    "def genetic_algorithm(G, source_node, max_gens=10, starting_size=1000, keep=50, elite_count=1, starting_population=None):\n",
    "    \"\"\"Given a weighted complete graph G, find an approximate solution to the TSP using a genetic process of iteratively \n",
    "    producing better and better paths.\"\"\"\n",
    "    # Initial population\n",
    "    to_travel=list(set(G.nodes())-set([source_node]))\n",
    "    initial_population=[ [source_node]+random.sample(to_travel, len(to_travel))+[source_node] for _ in range(starting_size)]\n",
    "    # Add a starting population if given\n",
    "    if starting_population is not None:\n",
    "        initial_population=initial_population+starting_population\n",
    "    # Order and keep the best 2*#keep paths\n",
    "    st_pop_ordered=sorted(initial_population, key=lambda p:cost_of_path(G, p))\n",
    "    current_population=st_pop_ordered[:2*keep]\n",
    "    generation=0\n",
    "    # Generations loop\n",
    "    while generation<max_gens:\n",
    "        new_population=[]\n",
    "\n",
    "        # Creating mutants by crossing over the paths of the last population\n",
    "        for path1 in current_population:\n",
    "            for path2 in current_population:\n",
    "                offspring=mutated_offspring(path1, path2)\n",
    "                new_population.append(offspring)\n",
    "                offspring2=mutated_offspring(path1, path2, random.randint(2,len(path1)-2))\n",
    "                new_population.append(offspring2)\n",
    "\n",
    "        # Adding the best from the previous generation\n",
    "        new_population=new_population+current_population[:elite_count]\n",
    "        # Adding some random solutions\n",
    "        new_population=new_population+[[source_node]+random.sample(to_travel, len(to_travel))+[source_node] for _ in range(starting_size)]\n",
    "        # Order and keep the best #keep paths       \n",
    "        current_population=list(sorted(new_population, key=lambda p:cost_of_path(G, p)))[:keep]\n",
    "        generation+=1\n",
    "        # To see progress\n",
    "        print(f'In generation {generation}, the 10 best fitnesses are:\\n', [cost_of_path(G, path) for path in current_population[:10]])\n",
    "    return cost_of_path(G, current_population[0]), current_population[0]"
   ]
  },
  {
   "cell_type": "markdown",
   "metadata": {},
   "source": [
    "The algorithm above, as many genetic algorithms and Machine Learning algorithms in general, has a high tendency to get stuck in local mimima. One possible approach around that is the algorithm below. It runs the genetic algorithm many times, keeps the best paths found each time, and then starts the algorithm one last time using those paths in the initial population. It has the following additional parameters:\n",
    " - final_max_gens: The threshold number of generations that will pass before the algorithm stops at the last step where the best paths are collected\n",
    " - reruns: The number of times the genetic algorithm will start fresh"
   ]
  },
  {
   "cell_type": "code",
   "execution_count": null,
   "metadata": {},
   "outputs": [],
   "source": [
    "def genetic_algorithm_best_from_reruns(G, source_node, max_gens=10, starting_size=1000, keep=50, elite_count=1, final_max_gens=20, reruns=5):\n",
    "    \"\"\"Rerun the genetic algorithm many times to find good solutions. Run one last time using them as a starting population.\"\"\"\n",
    "    good=[]\n",
    "    for _ in range(reruns):\n",
    "        good.append(genetic_algorithm(G, source_node, max_gens, starting_size, keep, elite_count)[1])\n",
    "    print(f'\\nBelow the previous {reruns} best solutions will be used in the initial population\\n')    \n",
    "    return genetic_algorithm(G, source_node, final_max_gens, starting_size, keep, elite_count, good)              "
   ]
  },
  {
   "cell_type": "code",
   "execution_count": null,
   "metadata": {},
   "outputs": [],
   "source": [
    "genetic_algorithm(G, 'A')"
   ]
  },
  {
   "cell_type": "code",
   "execution_count": null,
   "metadata": {},
   "outputs": [],
   "source": [
    "genetic_algorithm_best_from_reruns(G, 'A', max_gens=3, starting_size=1000, keep=50, elite_count=2, final_max_gens=10, reruns=5)"
   ]
  },
  {
   "cell_type": "markdown",
   "metadata": {},
   "source": [
    "## Brute force solution for the graph G"
   ]
  },
  {
   "cell_type": "markdown",
   "metadata": {},
   "source": [
    "Here we present a brute force approach to the TSP in order to compare the paths found. For n nodes, there are (n-1)! cycles from 'A' back to 'A'. For n=10, that is 362880 possible paths. For more nodes than that, the brute force approach becomes inefficient. "
   ]
  },
  {
   "cell_type": "code",
   "execution_count": null,
   "metadata": {},
   "outputs": [],
   "source": [
    "def tsp_by_brute_force(G, source_node):\n",
    "    n=len(G.nodes())\n",
    "    if n>12:\n",
    "        return f'Brute force approach is inefficient for {n} nodes.'\n",
    "    to_travel=list(set(G.nodes())-set([source_node]))\n",
    "    minimum_path=[source_node]+random.sample(to_travel, len(to_travel))+[source_node]\n",
    "    minimum_cost=cost_of_path(G, minimum_path)\n",
    "    for perm in itertools.permutations(to_travel):\n",
    "        inside_path=list(perm)\n",
    "        if cost_of_path(G, [source_node]+inside_path+[source_node])<minimum_cost:\n",
    "            minimum_path=[source_node]+inside_path+[source_node]\n",
    "            minimum_cost=cost_of_path(G, [source_node]+inside_path+[source_node])\n",
    "    return minimum_cost, minimum_path"
   ]
  },
  {
   "cell_type": "code",
   "execution_count": null,
   "metadata": {},
   "outputs": [],
   "source": [
    "tsp_by_brute_force(G, 'A')"
   ]
  },
  {
   "cell_type": "markdown",
   "metadata": {},
   "source": [
    "For the example graph G, we see that the genetic algorithm finds the best possible solution. In the additional examples below here the number of nodes is much higher, the algorithm will only find good inexpensive paths but with no guarantee that they are the best possible. "
   ]
  },
  {
   "cell_type": "markdown",
   "metadata": {},
   "source": [
    "## More examples"
   ]
  },
  {
   "cell_type": "markdown",
   "metadata": {},
   "source": [
    "##### Example 1\n",
    "Complete graph with 20 vertices and finite weights."
   ]
  },
  {
   "cell_type": "code",
   "execution_count": null,
   "metadata": {},
   "outputs": [],
   "source": [
    "random.seed(0)\n",
    "G1=nx.gnm_random_graph(20, 190, seed=0)\n",
    "for (u, v) in G1.edges():\n",
    "    G1.edges[u,v]['weight'] = random.randint(1,100)\n",
    "#plot_complete_graph_with_a_few_weights(G1)"
   ]
  },
  {
   "cell_type": "code",
   "execution_count": null,
   "metadata": {},
   "outputs": [],
   "source": [
    "genetic_algorithm(G1, 0, max_gens=10, starting_size=1000, keep=50, elite_count=1, starting_population=None)"
   ]
  },
  {
   "cell_type": "code",
   "execution_count": null,
   "metadata": {
    "scrolled": false
   },
   "outputs": [],
   "source": [
    "genetic_algorithm_best_from_reruns(G1, 0, max_gens=10, starting_size=1000, keep=50, elite_count=1, final_max_gens=20, reruns=5)"
   ]
  },
  {
   "cell_type": "markdown",
   "metadata": {},
   "source": [
    "##### Example 2\n",
    "Erdos-Renyi graph with 12 nodes and 60 edges."
   ]
  },
  {
   "cell_type": "code",
   "execution_count": null,
   "metadata": {},
   "outputs": [],
   "source": [
    "random.seed(0)\n",
    "G2=nx.gnm_random_graph(12, 60, seed=0)\n",
    "for (u, v) in G2.edges():\n",
    "    G2.edges[u,v]['weight'] = random.randint(1,100)\n",
    "plot_graph_with_weights(G2)"
   ]
  },
  {
   "cell_type": "code",
   "execution_count": null,
   "metadata": {},
   "outputs": [],
   "source": [
    "G2=complete_graph_with_infinite_cost_edges(G2)    \n",
    "plot_complete_graph_with_a_few_weights(G2)"
   ]
  },
  {
   "cell_type": "code",
   "execution_count": null,
   "metadata": {
    "scrolled": false
   },
   "outputs": [],
   "source": [
    "genetic_algorithm(G2, 0, max_gens=10, starting_size=10000, keep=50, elite_count=5, starting_population=None)"
   ]
  },
  {
   "cell_type": "code",
   "execution_count": null,
   "metadata": {
    "scrolled": false
   },
   "outputs": [],
   "source": [
    "genetic_algorithm_best_from_reruns(G2, 0, max_gens=3, starting_size=10000, keep=50, elite_count=1, final_max_gens=10, reruns=10)"
   ]
  },
  {
   "cell_type": "code",
   "execution_count": null,
   "metadata": {},
   "outputs": [],
   "source": [
    "#With 12 nodes the brute force apporach takes a very long time (around 30-60 minutes) but still reasonable.\n",
    "#tsp_by_brute_force(G2, 0)"
   ]
  },
  {
   "cell_type": "markdown",
   "metadata": {},
   "source": [
    "##### Example 3\n",
    "Erdos-Renyi graph with 30 nodes and 300 edges."
   ]
  },
  {
   "cell_type": "code",
   "execution_count": null,
   "metadata": {},
   "outputs": [],
   "source": [
    "random.seed(0)\n",
    "G3=nx.gnm_random_graph(30, 300, seed=0)\n",
    "for (u, v) in G3.edges():\n",
    "    G3.edges[u,v]['weight'] = random.randint(1,100)\n",
    "#plot_graph_with_weights(G3)"
   ]
  },
  {
   "cell_type": "code",
   "execution_count": null,
   "metadata": {},
   "outputs": [],
   "source": [
    "G3=complete_graph_with_infinite_cost_edges(G3)    \n",
    "#plot_complete_graph_with_a_few_weights(G3)"
   ]
  },
  {
   "cell_type": "code",
   "execution_count": null,
   "metadata": {
    "scrolled": true
   },
   "outputs": [],
   "source": [
    "genetic_algorithm(G3, 0, max_gens=10, starting_size=100, keep=50, elite_count=1, starting_population=None)"
   ]
  },
  {
   "cell_type": "code",
   "execution_count": null,
   "metadata": {
    "scrolled": false
   },
   "outputs": [],
   "source": [
    "genetic_algorithm_best_from_reruns(G3, 0, max_gens=10, starting_size=10000, keep=50, elite_count=1, final_max_gens=10, reruns=5)"
   ]
  },
  {
   "cell_type": "markdown",
   "metadata": {},
   "source": [
    "##### End of notebook"
   ]
  }
 ],
 "metadata": {
  "kernelspec": {
   "display_name": "Python 3",
   "language": "python",
   "name": "python3"
  },
  "language_info": {
   "codemirror_mode": {
    "name": "ipython",
    "version": 3
   },
   "file_extension": ".py",
   "mimetype": "text/x-python",
   "name": "python",
   "nbconvert_exporter": "python",
   "pygments_lexer": "ipython3",
   "version": "3.7.6"
  }
 },
 "nbformat": 4,
 "nbformat_minor": 4
}
